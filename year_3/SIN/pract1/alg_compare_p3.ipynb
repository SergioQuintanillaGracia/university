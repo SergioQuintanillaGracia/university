{
  "cells": [
    {
      "cell_type": "markdown",
      "id": "3d4fd60e-3762-4f07-8ad5-649dd7f45b43",
      "metadata": {
        "id": "3d4fd60e-3762-4f07-8ad5-649dd7f45b43"
      },
      "source": [
        "**Lab assignment 1**\n",
        "\n",
        "More advanced notebook aimed at making detailed comparisons between heuristics.\n",
        "\n",
        "It includes graphical visualization and quantitative analysis to support the justification of\n",
        "results."
      ]
    },
    {
      "cell_type": "markdown",
      "id": "c1b9303b",
      "metadata": {
        "id": "c1b9303b"
      },
      "source": [
        "# Analysing search algorithms\n",
        "Statistical comparison between A* MD+LC and Greedy Manhattan over n random puzzles.\n",
        "\n",
        "Metrics to compare:\n",
        "- Cost of the solution (number of movements)\n",
        "- Number of nodes expanded\n",
        "- Execution time\n",
        "- Difference between solutions"
      ]
    },
    {
      "cell_type": "code",
      "execution_count": null,
      "id": "b5e9cdf5-07ad-4b2e-bde4-a7f280efa9e7",
      "metadata": {
        "id": "b5e9cdf5-07ad-4b2e-bde4-a7f280efa9e7"
      },
      "outputs": [],
      "source": [
        "pip install matplotlib tabulate numpy"
      ]
    },
    {
      "cell_type": "code",
      "execution_count": null,
      "id": "f3384346",
      "metadata": {
        "id": "f3384346"
      },
      "outputs": [],
      "source": [
        "# Import the required libraries\n",
        "import search\n",
        "from search import *\n",
        "import time\n",
        "import statistics\n",
        "import matplotlib.pyplot as plt"
      ]
    },
    {
      "cell_type": "markdown",
      "id": "451ffa5f",
      "metadata": {
        "id": "451ffa5f"
      },
      "source": [
        "## Setting up and running the experiment"
      ]
    },
    {
      "cell_type": "code",
      "execution_count": null,
      "id": "50fae711-02e2-46b9-9c53-9fdd01ce18a7",
      "metadata": {
        "id": "50fae711-02e2-46b9-9c53-9fdd01ce18a7"
      },
      "outputs": [],
      "source": [
        "# Auxiliary methods to execute the algorithms\n",
        "\n",
        "def run_algorithm(algorithm_name, initial_state, end_state, size, depth=50, heuristic_func=None):\n",
        "    \"\"\"\n",
        "    Executes the algorithm specified by its name and returns its results.\n",
        "    Returns:\n",
        "        dict: Dictionary with the results of the algorithm, or None if an error occurs\n",
        "    \"\"\"\n",
        "    solution_data = None\n",
        "\n",
        "    if algorithm_name == 'BFS':\n",
        "        solution_data = graphSearch(initial_state, end_state, lambda x: 1, lambda s, es: 0, size)\n",
        "        #print(\"BFS executed\")\n",
        "\n",
        "    elif algorithm_name == 'DFS (Graph Search)':\n",
        "        solution_data = graphSearch(initial_state, end_state, lambda x: -1, lambda s, es: 0, size, maximum_depth=depth)\n",
        "        #print(\"DFS (Graph Search) executed\")\n",
        "\n",
        "    elif algorithm_name == 'DFS-B':\n",
        "        results_dict, _ = DFS_B(initial_state, end_state, size=size, maximum_depth=depth)\n",
        "        solution_data = results_dict\n",
        "        #print(\"DFS-B executed\")\n",
        "\n",
        "    elif algorithm_name == 'Voraz (Manhattan)':  # Greedy (Manhattan)\n",
        "        manhattan_h_search = lambda s, es_local=end_state: getManhattanDistance(s, es_local)\n",
        "        solution_data = graphSearch(initial_state, end_state, lambda x: 0, manhattan_h_search, size)\n",
        "        #print(\"Voraz (Manhattan) executed\")\n",
        "\n",
        "    elif algorithm_name == 'ID':\n",
        "        solution_data = ID_B(initial_state, end_state, size=size)\n",
        "        #print(\"ID executed\")\n",
        "\n",
        "    elif algorithm_name == 'A* (Manhattan)':\n",
        "        manhattan_h_search = lambda s, es_local=end_state: getManhattanDistance(s, es_local)\n",
        "        solution_data = graphSearch(initial_state, end_state, lambda x: 1, manhattan_h_search, size)\n",
        "        #print(\"A* (Manhattan) executed\")\n",
        "\n",
        "    elif algorithm_name == 'A (MD + LC)':\n",
        "        md_lc_h_search = lambda s, es_local=end_state: get_md_plus_linear_conflict(s, es_local)\n",
        "        solution_data = graphSearch(initial_state,end_state,  lambda x: 1, md_lc_h_search, size)\n",
        "        #print(\"A (Manhattan + Linear_conflict) executed\")\n",
        "\n",
        "    elif algorithm_name == 'IDA* (Manhattan)':\n",
        "        manhattan_h_search = lambda s, es_local=end_state: getManhattanDistance(s, es_local)\n",
        "        solution_data = IDA_B(initial_state, end_state, size, manhattan_h_search)\n",
        "        #print(\"IDA* (Manhattan) executed\")\n",
        "\n",
        "    else:\n",
        "        print(f\"Algorithm {algorithm_name} not found!\")\n",
        "        return None\n",
        "\n",
        "    if solution_data:\n",
        "        if not solution_data['path'] or len(solution_data['path']) == 0:\n",
        "            print(f\"No solution found for {algorithm_name}\")\n",
        "        return {algorithm_name: solution_data}\n",
        "    else:\n",
        "        print(f\"No solution data returned for {algorithm_name}\")\n",
        "        return {algorithm_name: {}}  # Return empty dict for the algorithm\n",
        "\n",
        "\n",
        "def run_all_algorithms(initial_state, end_state, size, depth = 50):\n",
        "    \"\"\"\n",
        "    Executes all the algorithms defined and returns their results.\n",
        "    Returns:\n",
        "        dict: Dictionary with the results of all the algorithms executed\n",
        "    \"\"\"\n",
        "    algorithms = [\n",
        "        'BFS',\n",
        "        'DFS-B',\n",
        "        'Voraz (Manhattan)',  # Greedy (Manhattan)\n",
        "        'ID',\n",
        "        'A* (Manhattan)',\n",
        "        'A (MD + LC)',\n",
        "        'IDA* (Manhattan)'\n",
        "    ]\n",
        "\n",
        "    results = {}\n",
        "    seen_algos = set()\n",
        "    for algo in algorithms:\n",
        "        if algo not in seen_algos:\n",
        "            seen_algos.add(algo)\n",
        "            algo_result = run_algorithm(algo, initial_state, end_state, size, depth)\n",
        "            if algo_result and algo in algo_result:\n",
        "                results[algo] = algo_result[algo]\n",
        "\n",
        "    return results"
      ]
    },
    {
      "cell_type": "code",
      "execution_count": null,
      "id": "f6d1ede6",
      "metadata": {
        "id": "f6d1ede6"
      },
      "outputs": [],
      "source": [
        "# Setup\n",
        "size = 3  # Puzzle size\n",
        "num_iterations = 1000  # Number of random puzzles\n",
        "end_state = generate_spiral_state(size)\n",
        "\n",
        "# Structures to store the results\n",
        "astar_costs = []\n",
        "astar_expanded = []\n",
        "astar_times = []\n",
        "greedy_costs = []\n",
        "greedy_expanded = []\n",
        "greedy_times = []\n",
        "cost_differences = []\n",
        "time_differences = []\n",
        "\n",
        "print(f\"Initiating experiment with {num_iterations} puzzles of size {size}x{size}\")\n",
        "print(\"Goal state:\")\n",
        "visualize_state(end_state)\n",
        "\n",
        "# Main loop of the experiment\n",
        "for i in range(num_iterations):\n",
        "    # Generating random initial state\n",
        "    initial_state = generate_random_state(size, end_state)\n",
        "\n",
        "    if not isSolvable(initial_state, end_state):\n",
        "        print(f\"\\nPuzzle {i+1}: There is no solution, generating one more...\")\n",
        "        continue\n",
        "\n",
        "    print(f\"\\rProcessing puzzle {i+1}/{num_iterations}\", end='', flush=True)\n",
        "\n",
        "    # A* MD + LC\n",
        "\n",
        "    result = run_algorithm('A (MD + LC)', initial_state, end_state, size)\n",
        "\n",
        "    astar_result = result['A (MD + LC)']\n",
        "\n",
        "    # Greedy Manhattan\n",
        "\n",
        "    result = run_algorithm('Voraz (Manhattan)', initial_state, end_state, size)\n",
        "\n",
        "    greedy_result = result['Voraz (Manhattan)']\n",
        "\n",
        "    # Saving the results\n",
        "\n",
        "    astar_costs.append(astar_result['cost'])\n",
        "    astar_expanded.append(astar_result['nodes_expanded'])\n",
        "    astar_times.append(astar_result['time'])\n",
        "\n",
        "    greedy_costs.append(greedy_result['cost'])\n",
        "    greedy_expanded.append(greedy_result['nodes_expanded'])\n",
        "    greedy_times.append(greedy_result['time'])\n",
        "\n",
        "    cost_diff = greedy_result['cost'] - astar_result['cost']\n",
        "    cost_differences.append(cost_diff)\n",
        "\n",
        "    time_diff = astar_result['time'] - greedy_result['time']\n",
        "    time_differences.append(time_diff)\n",
        "\n",
        "\n",
        "\n",
        "print(\"\\nExperiment completed!\")"
      ]
    },
    {
      "cell_type": "markdown",
      "id": "eb92f7f0",
      "metadata": {
        "id": "eb92f7f0"
      },
      "source": [
        "## Analysing the results"
      ]
    },
    {
      "cell_type": "code",
      "execution_count": null,
      "id": "05e1f3dd",
      "metadata": {
        "id": "05e1f3dd"
      },
      "outputs": [],
      "source": [
        "# Computing statistics\n",
        "stats = {\n",
        "    'A*': {\n",
        "        'coste_min': min(astar_costs),  # Minimum cost\n",
        "        'coste_max': max(astar_costs),  # Maximum cost\n",
        "        'coste_medio': statistics.mean(astar_costs),  # Mean cost\n",
        "        'expandidos_medio': statistics.mean(astar_expanded),  # Mean number of nodes expanded\n",
        "        'tiempo_medio': statistics.mean(astar_times)  # Mean time\n",
        "    },\n",
        "    'Voraz': {  # Greedy\n",
        "        'coste_min': min(greedy_costs),  # Minimum cost\n",
        "        'coste_max': max(greedy_costs),  # Maximum cost\n",
        "        'coste_medio': statistics.mean(greedy_costs),  # Mean cost\n",
        "        'expandidos_medio': statistics.mean(greedy_expanded),  # Mean number of nodes expanded\n",
        "        'tiempo_medio': statistics.mean(greedy_times)  # Mean time\n",
        "    }\n",
        "}\n",
        "\n",
        "print(\"Statistics for A* MD LC:\")\n",
        "print(f\"Cost - Min: {stats['A*']['coste_min']}, Max: {stats['A*']['coste_max']}, Mean: {stats['A*']['coste_medio']:.2f}\")\n",
        "print(f\"Nodes expanded (mean): {stats['A*']['expandidos_medio']:.2f}\")\n",
        "print(f\"Mean time: {stats['A*']['tiempo_medio']:.3f}s\\n\")\n",
        "\n",
        "print(\"Statistics for Greedy Manhattan:\")\n",
        "print(f\"Cost - Min: {stats['Voraz']['coste_min']}, Max: {stats['Voraz']['coste_max']}, Mean: {stats['Voraz']['coste_medio']:.2f}\")\n",
        "print(f\"Nodes expanded (mean): {stats['Voraz']['expandidos_medio']:.2f}\")\n",
        "print(f\"Mean time: {stats['Voraz']['tiempo_medio']:.3f}s\\n\")\n",
        "\n",
        "print(\"Cost differences (Greedy - A*):\")\n",
        "print(f\"Minimum: {min(cost_differences)}\")\n",
        "print(f\"Maximum: {max(cost_differences)}\")\n",
        "print(f\"Mean: {statistics.mean(cost_differences):.2f}\")"
      ]
    },
    {
      "cell_type": "markdown",
      "id": "cc170e51",
      "metadata": {
        "id": "cc170e51"
      },
      "source": [
        "## Visualizing the results"
      ]
    },
    {
      "cell_type": "code",
      "execution_count": null,
      "id": "2191edfa",
      "metadata": {
        "id": "2191edfa"
      },
      "outputs": [],
      "source": [
        "# Box plot for costs\n",
        "plt.figure(figsize=(10, 6))\n",
        "plt.boxplot([astar_costs, greedy_costs])\n",
        "plt.title('Distribution of costs for each algorithm')\n",
        "plt.ylabel('Number of movements')\n",
        "plt.xticks([1, 2], ['A*', 'Voraz'])  # ← Here you indicate the labels\n",
        "plt.show()\n",
        "\n",
        "# Bar chart for mean stats\n",
        "metrics = ['Mean cost', 'Nodes expanded\\n(mean)', 'Mean time (s)']\n",
        "astar_values = [stats['A*']['coste_medio'], stats['A*']['expandidos_medio'], stats['A*']['tiempo_medio']]\n",
        "greedy_values = [stats['Voraz']['coste_medio'], stats['Voraz']['expandidos_medio'], stats['Voraz']['tiempo_medio']]\n",
        "\n",
        "plt.figure(figsize=(12, 6))\n",
        "x = range(len(metrics))\n",
        "width = 0.35\n",
        "\n",
        "plt.bar([i - width/2 for i in x], astar_values, width, label='A*', color='skyblue')\n",
        "plt.bar([i + width/2 for i in x], greedy_values, width, label='Voraz', color='lightcoral')\n",
        "\n",
        "plt.xlabel('Metrics')\n",
        "plt.ylabel('Values')\n",
        "plt.title('Metric comparison between algorithms')\n",
        "plt.xticks(x, metrics)\n",
        "plt.legend()\n",
        "plt.show()\n",
        "\n",
        "# Histogram of cost differences\n",
        "plt.figure(figsize=(10, 6))\n",
        "plt.hist(cost_differences, bins=20, edgecolor='black')\n",
        "plt.title('Distribution of cost differences (Greedy - A*)')\n",
        "plt.xlabel('Difference in number of movements')\n",
        "plt.ylabel('Frequency')\n",
        "plt.show()\n",
        "\n",
        "# Histogram of cost differences\n",
        "plt.figure(figsize=(10, 6))\n",
        "plt.hist(time_differences, bins=100, edgecolor='black')\n",
        "plt.title('Distribution of time differences (A* - Greedy)')\n",
        "plt.xlabel('Differenc in time units')\n",
        "plt.ylabel('Frequency')\n",
        "plt.show()"
      ]
    },
    {
      "cell_type": "code",
      "execution_count": null,
      "id": "f620ba6d-4367-4612-9d67-3acc4f439fa8",
      "metadata": {
        "id": "f620ba6d-4367-4612-9d67-3acc4f439fa8"
      },
      "outputs": [],
      "source": []
    }
  ],
  "metadata": {
    "kernelspec": {
      "display_name": "Python 3 (ipykernel)",
      "language": "python",
      "name": "python3"
    },
    "language_info": {
      "codemirror_mode": {
        "name": "ipython",
        "version": 3
      },
      "file_extension": ".py",
      "mimetype": "text/x-python",
      "name": "python",
      "nbconvert_exporter": "python",
      "pygments_lexer": "ipython3",
      "version": "3.12.3"
    },
    "colab": {
      "provenance": []
    }
  },
  "nbformat": 4,
  "nbformat_minor": 5
}